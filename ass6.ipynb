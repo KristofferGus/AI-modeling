{
 "cells": [
  {
   "cell_type": "code",
   "execution_count": 20,
   "metadata": {},
   "outputs": [],
   "source": [
    "import torch\n",
    "from tqdm import tqdm\n",
    "import random"
   ]
  },
  {
   "cell_type": "code",
   "execution_count": 21,
   "metadata": {},
   "outputs": [],
   "source": [
    "class Node:\n",
    "    def __init__(self, data, parents, children = None) -> None:\n",
    "        self.data = data\n",
    "        self.visits = 0\n",
    "        self.score = 0\n",
    "        self.parents = parents\n",
    "        if children == None:\n",
    "            self.children = []\n",
    "        else:\n",
    "            self.children = children\n",
    "    def find_node(self, data, eq):\n",
    "        if eq(data, self.data):\n",
    "            return [self]\n",
    "        finds = []\n",
    "        for child in self.children:\n",
    "            finds.extend(child.find_node(data, eq))\n",
    "        return finds\n",
    "    def find_leafs(self):\n",
    "        if len(self.children) == 0:\n",
    "            return [self]\n",
    "        finds = []\n",
    "        for child in self.children:\n",
    "            finds.extend(child.find_leafs())\n",
    "        return finds\n",
    "    def cout_nodes(self):\n",
    "        return 1 + sum([c.cout_nodes() for c in self.children])\n",
    "    def listify(self):\n",
    "        found = []\n",
    "        for c in self.children:\n",
    "            found.extend(c.listify())\n",
    "\n",
    "        return [self.data] + found\n",
    "    "
   ]
  },
  {
   "cell_type": "code",
   "execution_count": 22,
   "metadata": {},
   "outputs": [],
   "source": [
    "def make_children(tensor, current_peice):\n",
    "    children = []\n",
    "    for i in range(tensor.size(0)):\n",
    "        for j in range(tensor.size(1)):\n",
    "            if tensor[i][j] == 0:\n",
    "                # Create a copy of the original tensor\n",
    "                new_tensor = tensor.clone()\n",
    "                # Replace 0 with 1 at this index\n",
    "                new_tensor[i][j] = current_peice\n",
    "                # Append the modified tensor to the list\n",
    "                children.append(new_tensor)\n",
    "    return children"
   ]
  },
  {
   "cell_type": "code",
   "execution_count": 23,
   "metadata": {},
   "outputs": [],
   "source": [
    "def winning_state_pice(tensor, own_pice):\n",
    "    suums = torch.cat((torch.sum(tensor, dim = 0), torch.sum(tensor, dim = 1)))\n",
    "    a = torch.any(torch.eq(suums, tensor.shape[0] * own_pice)) \n",
    "    return a"
   ]
  },
  {
   "cell_type": "code",
   "execution_count": 24,
   "metadata": {},
   "outputs": [],
   "source": [
    "def winning_state(tensor):\n",
    "    a = winning_state_pice(tensor, -1) or winning_state_pice(tensor, 1)\n",
    "    return a"
   ]
  },
  {
   "cell_type": "code",
   "execution_count": 25,
   "metadata": {},
   "outputs": [
    {
     "data": {
      "text/plain": [
       "True"
      ]
     },
     "execution_count": 25,
     "metadata": {},
     "output_type": "execute_result"
    }
   ],
   "source": [
    "torch.equal(torch.zeros((3,3)), torch.zeros((3,3)))"
   ]
  },
  {
   "cell_type": "code",
   "execution_count": 26,
   "metadata": {},
   "outputs": [
    {
     "name": "stderr",
     "output_type": "stream",
     "text": [
      "100%|██████████| 518000/518000 [02:43<00:00, 3165.56it/s]\n"
     ]
    }
   ],
   "source": [
    "graph = Node(torch.zeros((3,3)), None)  \n",
    "frontier = [graph]\n",
    "current_peice = 1\n",
    "progress_bar = tqdm(total=518000, miniters=1000)\n",
    "\n",
    "i = 0\n",
    "while True:\n",
    "    new_frontier = []\n",
    "    for f in frontier:\n",
    "        i += 1\n",
    "        if i % 1000 == 0:\n",
    "            progress_bar.update(1000)\n",
    "            i = 0\n",
    "        \n",
    "        children = [Node(d, f) for d in make_children(f.data, current_peice)]\n",
    "        new_frontier.extend([c for c in children if not winning_state(c.data)])\n",
    "        f.children = children\n",
    "\n",
    "    frontier = new_frontier\n",
    "    current_peice *= -1\n",
    "    if len(frontier) == 0:\n",
    "        break\n",
    "    \n",
    "# Close the progress bar\n",
    "progress_bar.close()"
   ]
  },
  {
   "cell_type": "code",
   "execution_count": 29,
   "metadata": {},
   "outputs": [
    {
     "data": {
      "text/plain": [
       "(672346, 672346)"
      ]
     },
     "execution_count": 29,
     "metadata": {},
     "output_type": "execute_result"
    }
   ],
   "source": [
    "len(graph.listify()), graph.cout_nodes()"
   ]
  },
  {
   "cell_type": "code",
   "execution_count": 10,
   "metadata": {},
   "outputs": [],
   "source": [
    "def score_leaf(node, own_peice):\n",
    "    if winning_state_pice(node.data,own_peice):\n",
    "        score = 1\n",
    "    elif winning_state_pice(node.data,own_peice * -1):\n",
    "        score = -1\n",
    "    else:\n",
    "        score = 0\n",
    "    node.score += score\n",
    "    node.visits += 1\n",
    "    parent = node.parent\n",
    "    while parent != None:\n",
    "        parent.score += score\n",
    "        parent.visits += 1\n",
    "        parent = parent.parent"
   ]
  },
  {
   "cell_type": "code",
   "execution_count": 11,
   "metadata": {},
   "outputs": [
    {
     "data": {
      "text/plain": [
       "283608"
      ]
     },
     "execution_count": 11,
     "metadata": {},
     "output_type": "execute_result"
    }
   ],
   "source": [
    "own_peice = 1\n",
    "for leaf in graph.find_leafs():\n",
    "    score_leaf(leaf, own_peice)\n",
    "graph.visits"
   ]
  },
  {
   "cell_type": "code",
   "execution_count": 12,
   "metadata": {},
   "outputs": [
    {
     "data": {
      "text/plain": [
       "tensor([[0., 0., 0.],\n",
       "        [0., 0., 0.],\n",
       "        [0., 1., 0.]])"
      ]
     },
     "execution_count": 12,
     "metadata": {},
     "output_type": "execute_result"
    }
   ],
   "source": [
    "def get_best_child(graph : Node, state):\n",
    "    node = graph.find_node(state, torch.equal)[0]\n",
    "    scored_states = {n.data: n.score / n.visits for n in node.children}\n",
    "    best_states =  [key for key, value in scored_states.items() if value == max(scored_states.values())]\n",
    "    best_random =  random.choice(best_states)\n",
    "    return best_random\n",
    "get_best_child(graph, graph.data)"
   ]
  },
  {
   "cell_type": "code",
   "execution_count": null,
   "metadata": {},
   "outputs": [],
   "source": []
  }
 ],
 "metadata": {
  "kernelspec": {
   "display_name": ".venv",
   "language": "python",
   "name": "python3"
  },
  "language_info": {
   "codemirror_mode": {
    "name": "ipython",
    "version": 3
   },
   "file_extension": ".py",
   "mimetype": "text/x-python",
   "name": "python",
   "nbconvert_exporter": "python",
   "pygments_lexer": "ipython3",
   "version": "3.10.11"
  }
 },
 "nbformat": 4,
 "nbformat_minor": 2
}
